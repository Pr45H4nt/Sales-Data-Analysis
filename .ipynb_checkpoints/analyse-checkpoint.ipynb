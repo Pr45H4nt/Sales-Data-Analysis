{
 "cells": [
  {
   "cell_type": "markdown",
   "id": "450813cc-7cf0-4de4-8716-5d726a7081cb",
   "metadata": {},
   "source": [
    "## Importing necessary modules"
   ]
  },
  {
   "cell_type": "code",
   "execution_count": 1,
   "id": "9f63e3d7-84f2-4b8f-9e03-20441b611134",
   "metadata": {},
   "outputs": [],
   "source": [
    "import pandas as pd\n",
    "import os"
   ]
  },
  {
   "cell_type": "code",
   "execution_count": 2,
   "id": "995d80d7-da15-438c-8b0b-9e635535b0d8",
   "metadata": {},
   "outputs": [
    {
     "data": {
      "text/plain": [
       "['Sales_October_2019.csv',\n",
       " 'Sales_December_2019.csv',\n",
       " 'Sales_May_2019.csv',\n",
       " 'Sales_January_2019.csv',\n",
       " 'Sales_July_2019.csv',\n",
       " 'Sales_August_2019.csv',\n",
       " 'Sales_March_2019.csv',\n",
       " 'Sales_June_2019.csv',\n",
       " '.ipynb_checkpoints',\n",
       " 'Sales_February_2019.csv',\n",
       " 'Sales_April_2019.csv',\n",
       " 'Sales_November_2019.csv',\n",
       " 'Sales_September_2019.csv']"
      ]
     },
     "execution_count": 2,
     "metadata": {},
     "output_type": "execute_result"
    }
   ],
   "source": [
    "files = os.listdir(\"Sales_Data\")\n",
    "files"
   ]
  },
  {
   "cell_type": "code",
   "execution_count": 3,
   "id": "cd7f0dbe-124c-422d-aaf5-b8facbb4c88a",
   "metadata": {},
   "outputs": [],
   "source": [
    "df = pd.DataFrame()"
   ]
  },
  {
   "cell_type": "code",
   "execution_count": 4,
   "id": "c22400da-5022-47a8-99fc-7143ed17fcc0",
   "metadata": {},
   "outputs": [],
   "source": [
    "for file in files:\n",
    "    if not file.endswith(\".csv\"):\n",
    "        continue\n",
    "    n_df = pd.read_csv(f\"Sales_Data/{file}\")\n",
    "    df = pd.concat([df, n_df])"
   ]
  },
  {
   "cell_type": "code",
   "execution_count": 7,
   "id": "dc693ffa-4cd1-4f01-b7a1-50c65489d21a",
   "metadata": {},
   "outputs": [],
   "source": [
    "df.to_csv(\"all_data.csv\")"
   ]
  },
  {
   "cell_type": "markdown",
   "id": "6c9499a2-e887-4580-9463-a497f1bca892",
   "metadata": {},
   "source": [
    "## Read from the updated dataset"
   ]
  },
  {
   "cell_type": "code",
   "execution_count": 9,
   "id": "ace9e67c-3812-4d0d-9660-9a644b433b17",
   "metadata": {},
   "outputs": [],
   "source": [
    "df = pd.read_csv(\"all_data.csv\")"
   ]
  },
  {
   "cell_type": "code",
   "execution_count": 20,
   "id": "9d67bec3-0ba2-4592-8f62-bfccb0ad891d",
   "metadata": {},
   "outputs": [
    {
     "name": "stdout",
     "output_type": "stream",
     "text": [
      "<class 'pandas.core.frame.DataFrame'>\n",
      "RangeIndex: 186850 entries, 0 to 186849\n",
      "Data columns (total 8 columns):\n",
      " #   Column            Non-Null Count   Dtype \n",
      "---  ------            --------------   ----- \n",
      " 0   Unnamed: 0        186850 non-null  int64 \n",
      " 1   Order ID          186305 non-null  object\n",
      " 2   Product           186305 non-null  object\n",
      " 3   Quantity Ordered  186305 non-null  object\n",
      " 4   Price Each        186305 non-null  object\n",
      " 5   Order Date        186305 non-null  object\n",
      " 6   Purchase Address  186305 non-null  object\n",
      " 7   Month             186305 non-null  object\n",
      "dtypes: int64(1), object(7)\n",
      "memory usage: 11.4+ MB\n"
     ]
    },
    {
     "data": {
      "text/html": [
       "<div>\n",
       "<style scoped>\n",
       "    .dataframe tbody tr th:only-of-type {\n",
       "        vertical-align: middle;\n",
       "    }\n",
       "\n",
       "    .dataframe tbody tr th {\n",
       "        vertical-align: top;\n",
       "    }\n",
       "\n",
       "    .dataframe thead th {\n",
       "        text-align: right;\n",
       "    }\n",
       "</style>\n",
       "<table border=\"1\" class=\"dataframe\">\n",
       "  <thead>\n",
       "    <tr style=\"text-align: right;\">\n",
       "      <th></th>\n",
       "      <th>Unnamed: 0</th>\n",
       "      <th>Order ID</th>\n",
       "      <th>Product</th>\n",
       "      <th>Quantity Ordered</th>\n",
       "      <th>Price Each</th>\n",
       "      <th>Order Date</th>\n",
       "      <th>Purchase Address</th>\n",
       "      <th>Month</th>\n",
       "    </tr>\n",
       "  </thead>\n",
       "  <tbody>\n",
       "    <tr>\n",
       "      <th>0</th>\n",
       "      <td>0</td>\n",
       "      <td>259358</td>\n",
       "      <td>34in Ultrawide Monitor</td>\n",
       "      <td>1</td>\n",
       "      <td>379.99</td>\n",
       "      <td>10/28/19 10:56</td>\n",
       "      <td>609 Cherry St, Dallas, TX 75001</td>\n",
       "      <td>10</td>\n",
       "    </tr>\n",
       "    <tr>\n",
       "      <th>1</th>\n",
       "      <td>1</td>\n",
       "      <td>259359</td>\n",
       "      <td>27in 4K Gaming Monitor</td>\n",
       "      <td>1</td>\n",
       "      <td>389.99</td>\n",
       "      <td>10/28/19 17:26</td>\n",
       "      <td>225 5th St, Los Angeles, CA 90001</td>\n",
       "      <td>10</td>\n",
       "    </tr>\n",
       "    <tr>\n",
       "      <th>2</th>\n",
       "      <td>2</td>\n",
       "      <td>259360</td>\n",
       "      <td>AAA Batteries (4-pack)</td>\n",
       "      <td>2</td>\n",
       "      <td>2.99</td>\n",
       "      <td>10/24/19 17:20</td>\n",
       "      <td>967 12th St, New York City, NY 10001</td>\n",
       "      <td>10</td>\n",
       "    </tr>\n",
       "    <tr>\n",
       "      <th>3</th>\n",
       "      <td>3</td>\n",
       "      <td>259361</td>\n",
       "      <td>27in FHD Monitor</td>\n",
       "      <td>1</td>\n",
       "      <td>149.99</td>\n",
       "      <td>10/14/19 22:26</td>\n",
       "      <td>628 Jefferson St, New York City, NY 10001</td>\n",
       "      <td>10</td>\n",
       "    </tr>\n",
       "    <tr>\n",
       "      <th>4</th>\n",
       "      <td>4</td>\n",
       "      <td>259362</td>\n",
       "      <td>Wired Headphones</td>\n",
       "      <td>1</td>\n",
       "      <td>11.99</td>\n",
       "      <td>10/07/19 16:10</td>\n",
       "      <td>534 14th St, Los Angeles, CA 90001</td>\n",
       "      <td>10</td>\n",
       "    </tr>\n",
       "  </tbody>\n",
       "</table>\n",
       "</div>"
      ],
      "text/plain": [
       "   Unnamed: 0 Order ID                 Product Quantity Ordered Price Each  \\\n",
       "0           0   259358  34in Ultrawide Monitor                1     379.99   \n",
       "1           1   259359  27in 4K Gaming Monitor                1     389.99   \n",
       "2           2   259360  AAA Batteries (4-pack)                2       2.99   \n",
       "3           3   259361        27in FHD Monitor                1     149.99   \n",
       "4           4   259362        Wired Headphones                1      11.99   \n",
       "\n",
       "       Order Date                           Purchase Address Month  \n",
       "0  10/28/19 10:56            609 Cherry St, Dallas, TX 75001    10  \n",
       "1  10/28/19 17:26          225 5th St, Los Angeles, CA 90001    10  \n",
       "2  10/24/19 17:20       967 12th St, New York City, NY 10001    10  \n",
       "3  10/14/19 22:26  628 Jefferson St, New York City, NY 10001    10  \n",
       "4  10/07/19 16:10         534 14th St, Los Angeles, CA 90001    10  "
      ]
     },
     "execution_count": 20,
     "metadata": {},
     "output_type": "execute_result"
    }
   ],
   "source": [
    "df.info()\n",
    "df.head()"
   ]
  },
  {
   "cell_type": "markdown",
   "id": "c417871d-106a-4adc-b2b3-6acb412fc0fc",
   "metadata": {},
   "source": [
    "### adding new columns for better analysis"
   ]
  },
  {
   "cell_type": "code",
   "execution_count": 17,
   "id": "1db88b8d-ee0e-4c5d-a580-5c72245234ca",
   "metadata": {},
   "outputs": [],
   "source": [
    "df['Month'] = df['Order Date'].str[:2]"
   ]
  },
  {
   "cell_type": "code",
   "execution_count": 19,
   "id": "69a54c3c-c2c4-40e5-bb54-94da237ac542",
   "metadata": {},
   "outputs": [
    {
     "data": {
      "text/html": [
       "<div>\n",
       "<style scoped>\n",
       "    .dataframe tbody tr th:only-of-type {\n",
       "        vertical-align: middle;\n",
       "    }\n",
       "\n",
       "    .dataframe tbody tr th {\n",
       "        vertical-align: top;\n",
       "    }\n",
       "\n",
       "    .dataframe thead th {\n",
       "        text-align: right;\n",
       "    }\n",
       "</style>\n",
       "<table border=\"1\" class=\"dataframe\">\n",
       "  <thead>\n",
       "    <tr style=\"text-align: right;\">\n",
       "      <th></th>\n",
       "      <th>Unnamed: 0</th>\n",
       "      <th>Order ID</th>\n",
       "      <th>Product</th>\n",
       "      <th>Quantity Ordered</th>\n",
       "      <th>Price Each</th>\n",
       "      <th>Order Date</th>\n",
       "      <th>Purchase Address</th>\n",
       "      <th>Month</th>\n",
       "    </tr>\n",
       "  </thead>\n",
       "  <tbody>\n",
       "    <tr>\n",
       "      <th>186845</th>\n",
       "      <td>11681</td>\n",
       "      <td>259353</td>\n",
       "      <td>AAA Batteries (4-pack)</td>\n",
       "      <td>3</td>\n",
       "      <td>2.99</td>\n",
       "      <td>09/17/19 20:56</td>\n",
       "      <td>840 Highland St, Los Angeles, CA 90001</td>\n",
       "      <td>09</td>\n",
       "    </tr>\n",
       "    <tr>\n",
       "      <th>186846</th>\n",
       "      <td>11682</td>\n",
       "      <td>259354</td>\n",
       "      <td>iPhone</td>\n",
       "      <td>1</td>\n",
       "      <td>700</td>\n",
       "      <td>09/01/19 16:00</td>\n",
       "      <td>216 Dogwood St, San Francisco, CA 94016</td>\n",
       "      <td>09</td>\n",
       "    </tr>\n",
       "    <tr>\n",
       "      <th>186847</th>\n",
       "      <td>11683</td>\n",
       "      <td>259355</td>\n",
       "      <td>iPhone</td>\n",
       "      <td>1</td>\n",
       "      <td>700</td>\n",
       "      <td>09/23/19 07:39</td>\n",
       "      <td>220 12th St, San Francisco, CA 94016</td>\n",
       "      <td>09</td>\n",
       "    </tr>\n",
       "    <tr>\n",
       "      <th>186848</th>\n",
       "      <td>11684</td>\n",
       "      <td>259356</td>\n",
       "      <td>34in Ultrawide Monitor</td>\n",
       "      <td>1</td>\n",
       "      <td>379.99</td>\n",
       "      <td>09/19/19 17:30</td>\n",
       "      <td>511 Forest St, San Francisco, CA 94016</td>\n",
       "      <td>09</td>\n",
       "    </tr>\n",
       "    <tr>\n",
       "      <th>186849</th>\n",
       "      <td>11685</td>\n",
       "      <td>259357</td>\n",
       "      <td>USB-C Charging Cable</td>\n",
       "      <td>1</td>\n",
       "      <td>11.95</td>\n",
       "      <td>09/30/19 00:18</td>\n",
       "      <td>250 Meadow St, San Francisco, CA 94016</td>\n",
       "      <td>09</td>\n",
       "    </tr>\n",
       "  </tbody>\n",
       "</table>\n",
       "</div>"
      ],
      "text/plain": [
       "        Unnamed: 0 Order ID                 Product Quantity Ordered  \\\n",
       "186845       11681   259353  AAA Batteries (4-pack)                3   \n",
       "186846       11682   259354                  iPhone                1   \n",
       "186847       11683   259355                  iPhone                1   \n",
       "186848       11684   259356  34in Ultrawide Monitor                1   \n",
       "186849       11685   259357    USB-C Charging Cable                1   \n",
       "\n",
       "       Price Each      Order Date                         Purchase Address  \\\n",
       "186845       2.99  09/17/19 20:56   840 Highland St, Los Angeles, CA 90001   \n",
       "186846        700  09/01/19 16:00  216 Dogwood St, San Francisco, CA 94016   \n",
       "186847        700  09/23/19 07:39     220 12th St, San Francisco, CA 94016   \n",
       "186848     379.99  09/19/19 17:30   511 Forest St, San Francisco, CA 94016   \n",
       "186849      11.95  09/30/19 00:18   250 Meadow St, San Francisco, CA 94016   \n",
       "\n",
       "       Month  \n",
       "186845    09  \n",
       "186846    09  \n",
       "186847    09  \n",
       "186848    09  \n",
       "186849    09  "
      ]
     },
     "execution_count": 19,
     "metadata": {},
     "output_type": "execute_result"
    }
   ],
   "source": []
  },
  {
   "cell_type": "markdown",
   "id": "f37ab611-9931-4d4d-acc3-306309b5d900",
   "metadata": {},
   "source": [
    "## q1. What was the best month for sales and how much money was earned?"
   ]
  },
  {
   "cell_type": "code",
   "execution_count": null,
   "id": "d1a4c0fe-a4af-467e-9c04-2c67d91af2e7",
   "metadata": {},
   "outputs": [],
   "source": []
  }
 ],
 "metadata": {
  "kernelspec": {
   "display_name": "Python 3 (ipykernel)",
   "language": "python",
   "name": "python3"
  },
  "language_info": {
   "codemirror_mode": {
    "name": "ipython",
    "version": 3
   },
   "file_extension": ".py",
   "mimetype": "text/x-python",
   "name": "python",
   "nbconvert_exporter": "python",
   "pygments_lexer": "ipython3",
   "version": "3.12.3"
  }
 },
 "nbformat": 4,
 "nbformat_minor": 5
}
